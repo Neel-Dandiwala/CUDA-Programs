{
  "nbformat": 4,
  "nbformat_minor": 0,
  "metadata": {
    "colab": {
      "name": "ArrayAdditionCUDA",
      "provenance": [],
      "authorship_tag": "ABX9TyO5mTWBpUzi2h9LWY5bqOAa",
      "include_colab_link": true
    },
    "kernelspec": {
      "name": "python3",
      "display_name": "Python 3"
    },
    "language_info": {
      "name": "python"
    },
    "accelerator": "GPU"
  },
  "cells": [
    {
      "cell_type": "markdown",
      "metadata": {
        "id": "view-in-github",
        "colab_type": "text"
      },
      "source": [
        "<a href=\"https://colab.research.google.com/github/Neel-Dandiwala/CUDA-Programs/blob/master/ArrayAdditionCUDA.ipynb\" target=\"_parent\"><img src=\"https://colab.research.google.com/assets/colab-badge.svg\" alt=\"Open In Colab\"/></a>"
      ]
    },
    {
      "cell_type": "code",
      "execution_count": 3,
      "metadata": {
        "colab": {
          "base_uri": "https://localhost:8080/"
        },
        "id": "l7EUAX8KDnif",
        "outputId": "c37dd701-ae4c-45dd-95d8-f12dd2f024d6"
      },
      "outputs": [
        {
          "output_type": "stream",
          "name": "stdout",
          "text": [
            "Writing add_grid.cu\n"
          ]
        }
      ],
      "source": [
        "%%writefile add_grid.cu\n",
        "\n",
        "#include <math.h>\n",
        "#include <iostream>\n",
        "\n",
        "__global__\n",
        "void add(int n, float *x, float *y)\n",
        "{\n",
        "    int index = blockIdx.x * blockDim.x + threadIdx.x;\n",
        "    int stride = blockDim.x * gridDim.x;\n",
        "    for(int i = index; i < n; i += stride)\n",
        "      y[i] = x[i] + y[i];\n",
        "}\n",
        "\n",
        "int main(void){\n",
        "    int N = 1<<20;\n",
        "    float *x, *y;\n",
        "\n",
        "    cudaMallocManaged(&x, N*sizeof(float));\n",
        "    cudaMallocManaged(&y, N*sizeof(float));\n",
        "\n",
        "    for(int i = 0; i < N; i++){\n",
        "        x[i] = 1.0f;\n",
        "        y[i] = 2.0f;\n",
        "    }\n",
        "\n",
        "    int blockSize = 256;\n",
        "    int numBlocks = (N + blockSize - 1) / blockSize;\n",
        "    add<<<numBlocks, blockSize>>>(N, x, y);\n",
        "\n",
        "    cudaDeviceSynchronize();\n",
        "\n",
        "    float maxError = 0.0f;\n",
        "    for (int i = 0; i < N; i++)\n",
        "      maxError = fmax(maxError, fabs(y[i] - 3.0f));\n",
        "    std::cout << \"Max Error: \" << maxError << std::endl;\n",
        "\n",
        "    cudaFree(x);\n",
        "    cudaFree(y);\n",
        "\n",
        "    return 0;\n",
        "}"
      ]
    },
    {
      "cell_type": "code",
      "source": [
        "%%shell \n",
        "\n",
        "nvcc add_grid.cu -o add_grid\n",
        "nsys profile -o prefetch --stats=true ./add_grid"
      ],
      "metadata": {
        "colab": {
          "base_uri": "https://localhost:8080/"
        },
        "id": "o3Kr8hcyKM02",
        "outputId": "6e36d61f-f5d2-4e91-8596-dd3b6bf1443f"
      },
      "execution_count": 5,
      "outputs": [
        {
          "output_type": "stream",
          "name": "stdout",
          "text": [
            "Warning: LBR backtrace method is not supported on this platform. DWARF backtrace method will be used.\n",
            "Collecting data...\n",
            "Max Error: 0\n",
            "Processing events...\n",
            "Capturing symbol files...\n",
            "Saving temporary \"/tmp/nsys-report-8a67-2a55-663a-a0fa.qdstrm\" file to disk...\n",
            "Creating final output files...\n",
            "\n",
            "Processing [==============================================================100%]\n",
            "Saved report file to \"/tmp/nsys-report-8a67-2a55-663a-a0fa.qdrep\"\n",
            "Exporting 3830 events: [==================================================100%]\n",
            "\n",
            "Exported successfully to\n",
            "/tmp/nsys-report-8a67-2a55-663a-a0fa.sqlite\n",
            "\n",
            "Generating CUDA API Statistics...\n",
            "CUDA API Statistics (nanoseconds)\n",
            "\n",
            "Time(%)      Total Time       Calls         Average         Minimum         Maximum  Name                                                                            \n",
            "-------  --------------  ----------  --------------  --------------  --------------  --------------------------------------------------------------------------------\n",
            "   99.1       340789488           2     170394744.0           43539       340745949  cudaMallocManaged                                                               \n",
            "    0.7         2402811           1       2402811.0         2402811         2402811  cudaDeviceSynchronize                                                           \n",
            "    0.2          652311           2        326155.5          303523          348788  cudaFree                                                                        \n",
            "    0.0           38543           1         38543.0           38543           38543  cudaLaunchKernel                                                                \n",
            "\n",
            "\n",
            "\n",
            "\n",
            "Generating CUDA Kernel Statistics...\n",
            "CUDA Kernel Statistics (nanoseconds)\n",
            "\n",
            "Time(%)      Total Time   Instances         Average         Minimum         Maximum  Name                                                                                                                                                                                                                                                                                                                                         \n",
            "-------  --------------  ----------  --------------  --------------  --------------  --------------------------------------------------------------------------------------------------------------------                                                                                                                                                                                                                         \n",
            "  100.0         2379236           1       2379236.0         2379236         2379236  add(int, float*, float*)                                                                                                                                                                                                                                                                                                                     \n",
            "\n",
            "\n",
            "\n",
            "Generating CUDA Memory Operation Statistics...\n",
            "CUDA Memory Operation Statistics (nanoseconds)\n",
            "\n",
            "Time(%)      Total Time  Operations         Average         Minimum         Maximum  Name                                                                            \n",
            "-------  --------------  ----------  --------------  --------------  --------------  --------------------------------------------------------------------------------\n",
            "   72.4          413013         104          3971.3            1056           36232  [CUDA Unified Memory memcpy HtoD]                                               \n",
            "   27.6          157649          24          6568.7             862           35439  [CUDA Unified Memory memcpy DtoH]                                               \n",
            "\n",
            "\n",
            "CUDA Memory Operation Statistics (KiB)\n",
            "\n",
            "              Total      Operations              Average            Minimum              Maximum  Name                                                                            \n",
            "-------------------  --------------  -------------------  -----------------  -------------------  --------------------------------------------------------------------------------\n",
            "           8192.000             104               78.769              4.000              968.000  [CUDA Unified Memory memcpy HtoD]                                               \n",
            "           4096.000              24              170.667              4.000             1020.000  [CUDA Unified Memory memcpy DtoH]                                               \n",
            "\n",
            "\n",
            "\n",
            "\n",
            "Generating Operating System Runtime API Statistics...\n",
            "Operating System Runtime API Statistics (nanoseconds)\n",
            "\n",
            "Time(%)      Total Time       Calls         Average         Minimum         Maximum  Name                                                                            \n",
            "-------  --------------  ----------  --------------  --------------  --------------  --------------------------------------------------------------------------------\n",
            "   58.9       351526502          19      18501394.8           36540       100191783  poll                                                                            \n",
            "   34.0       202553808         634        319485.5            1005       115635313  ioctl                                                                           \n",
            "    6.8        40858750          15       2723916.7           30611        20728628  sem_timedwait                                                                   \n",
            "    0.1          836857          77         10868.3            2628           21434  open64                                                                          \n",
            "    0.0          202350           4         50587.5           40048           61584  pthread_create                                                                  \n",
            "    0.0          144494          25          5779.8            1176           23682  fopen                                                                           \n",
            "    0.0           97551           3         32517.0           27430           37653  fgets                                                                           \n",
            "    0.0           67940          11          6176.4            3922            7758  write                                                                           \n",
            "    0.0           60109           6         10018.2            2987           14210  open                                                                            \n",
            "    0.0           48183          10          4818.3            1044           29309  fclose                                                                          \n",
            "    0.0           22083           8          2760.4            1308           10877  read                                                                            \n",
            "    0.0           19060           4          4765.0            1291           10290  fcntl                                                                           \n",
            "    0.0           15551           2          7775.5            6510            9041  socket                                                                          \n",
            "    0.0           14830           2          7415.0            6878            7952  fread                                                                           \n",
            "    0.0            9659           1          9659.0            9659            9659  putc                                                                            \n",
            "    0.0            8230           1          8230.0            8230            8230  connect                                                                         \n",
            "    0.0            5404           1          5404.0            5404            5404  pipe2                                                                           \n",
            "    0.0            4928           4          1232.0            1097            1416  msync                                                                           \n",
            "    0.0            4131           1          4131.0            4131            4131  fwrite                                                                          \n",
            "    0.0            1661           1          1661.0            1661            1661  bind                                                                            \n",
            "\n",
            "\n",
            "\n",
            "\n",
            "Generating NVTX Push-Pop Range Statistics...\n",
            "NVTX Push-Pop Range Statistics (nanoseconds)\n",
            "\n",
            "\n",
            "\n",
            "\n",
            "Report file moved to \"/content/prefetch.qdrep\"\n",
            "Report file moved to \"/content/prefetch.sqlite\"\n"
          ]
        },
        {
          "output_type": "execute_result",
          "data": {
            "text/plain": [
              ""
            ]
          },
          "metadata": {},
          "execution_count": 5
        }
      ]
    }
  ]
}