{
  "nbformat": 4,
  "nbformat_minor": 0,
  "metadata": {
    "colab": {
      "name": "clockCUDA.ipynb",
      "provenance": [],
      "authorship_tag": "ABX9TyO303nudmZjoP/2O53UjnlU",
      "include_colab_link": true
    },
    "kernelspec": {
      "name": "python3",
      "display_name": "Python 3"
    },
    "language_info": {
      "name": "python"
    },
    "accelerator": "GPU"
  },
  "cells": [
    {
      "cell_type": "markdown",
      "metadata": {
        "id": "view-in-github",
        "colab_type": "text"
      },
      "source": [
        "<a href=\"https://colab.research.google.com/github/Neel-Dandiwala/CUDA-Programs/blob/master/clockCUDA.ipynb\" target=\"_parent\"><img src=\"https://colab.research.google.com/assets/colab-badge.svg\" alt=\"Open In Colab\"/></a>"
      ]
    },
    {
      "cell_type": "code",
      "execution_count": 34,
      "metadata": {
        "id": "EaXo-eM1gNbO",
        "colab": {
          "base_uri": "https://localhost:8080/"
        },
        "outputId": "f14f934c-8778-405f-da25-b9ae7895ffcf"
      },
      "outputs": [
        {
          "output_type": "stream",
          "name": "stdout",
          "text": [
            "Overwriting clock.cu\n"
          ]
        }
      ],
      "source": [
        "%%writefile clock.cu\n",
        "\n",
        "#include <assert.h>\n",
        "#include <stdint.h>\n",
        "#include <stdio.h>\n",
        "\n",
        "#include <cuda_runtime.h>\n",
        "\n",
        "//multi-line macro for checkCudaErrors\n",
        "\n",
        "#define checkCudaErrors(call)                                 \\\n",
        "  do {                                                        \\\n",
        "    cudaError_t err = call;                                   \\\n",
        "    if (err != cudaSuccess) {                                 \\\n",
        "      printf(\"CUDA error at %s %d: %s\\n\", __FILE__, __LINE__, \\\n",
        "             cudaGetErrorString(err));                        \\\n",
        "      exit(EXIT_FAILURE);                                     \\\n",
        "    }                                                         \\\n",
        "  } while (0)\n",
        "\n",
        "\n",
        "\n",
        "__global__\n",
        "static void timedReduction(const float *input, float *output, clock_t *timer){\n",
        "    extern __shared__ float shared[];\n",
        "    const int tid = threadIdx.x;\n",
        "    const int bid = blockIdx.x;\n",
        "\n",
        "    if (tid == 0) timer[bid] = clock();\n",
        "\n",
        "    shared[tid] = input[tid];\n",
        "    shared[tid + blockDim.x] = input[tid + blockDim.x];\n",
        "\n",
        "    for (int d = blockDim.x; d > 0; d /= 2) {\n",
        "        \n",
        "        //synchronise the threads writing to the shared memory\n",
        "        __syncthreads();\n",
        "\n",
        "        if (tid < d) {\n",
        "            float f0 = shared[tid];\n",
        "            float f1 = shared[tid + d];\n",
        "            \n",
        "            if (f1 < f0){\n",
        "                shared[tid] = f1;\n",
        "            }\n",
        "        }\n",
        "    }\n",
        "\n",
        "    if (tid == 0) output[bid] = shared[0];\n",
        "    __syncthreads();\n",
        "\n",
        "    if (tid == 0) timer[bid + gridDim.x] = clock();\n",
        "}\n",
        "\n",
        "#define NUM_BLOCKS 32\n",
        "#define NUM_THREADS 256\n",
        "\n",
        "int main(int argc, char **argv) {\n",
        "    \n",
        "    float *dinput = NULL;\n",
        "    float *doutput = NULL;\n",
        "    clock_t *dtimer = NULL;\n",
        "\n",
        "    clock_t timer[NUM_BLOCKS * 2];\n",
        "    float input[NUM_THREADS * 2];\n",
        "\n",
        "    for (int i = 0; i < NUM_THREADS * 2; i++) {\n",
        "        input[i] = (float)i;\n",
        "    }\n",
        "\n",
        "    checkCudaErrors(\n",
        "        cudaMalloc((void **)&dinput, sizeof(float) * NUM_THREADS * 2)\n",
        "    );\n",
        "    checkCudaErrors(\n",
        "        cudaMalloc((void **)&doutput, sizeof(float) * NUM_BLOCKS)\n",
        "    );\n",
        "    checkCudaErrors(\n",
        "        cudaMalloc((void **)&dtimer, sizeof(clock_t) * NUM_BLOCKS * 2)\n",
        "    );\n",
        "\n",
        "    checkCudaErrors(\n",
        "        cudaMemcpy(dinput, input, sizeof(float) * NUM_THREADS * 2, cudaMemcpyHostToDevice)\n",
        "    );\n",
        "\n",
        "    timedReduction<<<NUM_BLOCKS, NUM_THREADS, sizeof(float) * 2 * NUM_THREADS>>>(dinput, doutput, dtimer);\n",
        "\n",
        "    checkCudaErrors(\n",
        "        cudaMemcpy(timer, dtimer, sizeof(clock_t) * NUM_BLOCKS * 2, cudaMemcpyDeviceToHost)\n",
        "    );\n",
        "    checkCudaErrors(cudaFree(dinput));\n",
        "    checkCudaErrors(cudaFree(doutput));\n",
        "    checkCudaErrors(cudaFree(dtimer));\n",
        "\n",
        "    long double avgElapsedClocks = 0;\n",
        "\n",
        "    for(int i = 0; i < NUM_BLOCKS; i++) {\n",
        "        avgElapsedClocks += (long double)(timer[i + NUM_BLOCKS] - timer[i]);\n",
        "    }\n",
        "\n",
        "    avgElapsedClocks = avgElapsedClocks / NUM_BLOCKS;\n",
        "    printf(\"Average Elapsed Time per block: %Lf\\n\", avgElapsedClocks);\n",
        "\n",
        "    return EXIT_SUCCESS;\n",
        "\n",
        "}\n"
      ]
    },
    {
      "cell_type": "code",
      "source": [
        "%%shell\n",
        "\n",
        "nvidia-smi"
      ],
      "metadata": {
        "colab": {
          "base_uri": "https://localhost:8080/"
        },
        "id": "QYdfmGVXLzJL",
        "outputId": "b3532c8c-3dc0-4efa-8ed1-818dbe00b3cc"
      },
      "execution_count": 1,
      "outputs": [
        {
          "output_type": "stream",
          "name": "stdout",
          "text": [
            "Sun May 29 09:38:34 2022       \n",
            "+-----------------------------------------------------------------------------+\n",
            "| NVIDIA-SMI 460.32.03    Driver Version: 460.32.03    CUDA Version: 11.2     |\n",
            "|-------------------------------+----------------------+----------------------+\n",
            "| GPU  Name        Persistence-M| Bus-Id        Disp.A | Volatile Uncorr. ECC |\n",
            "| Fan  Temp  Perf  Pwr:Usage/Cap|         Memory-Usage | GPU-Util  Compute M. |\n",
            "|                               |                      |               MIG M. |\n",
            "|===============================+======================+======================|\n",
            "|   0  Tesla T4            Off  | 00000000:00:04.0 Off |                    0 |\n",
            "| N/A   38C    P8    10W /  70W |      0MiB / 15109MiB |      0%      Default |\n",
            "|                               |                      |                  N/A |\n",
            "+-------------------------------+----------------------+----------------------+\n",
            "                                                                               \n",
            "+-----------------------------------------------------------------------------+\n",
            "| Processes:                                                                  |\n",
            "|  GPU   GI   CI        PID   Type   Process name                  GPU Memory |\n",
            "|        ID   ID                                                   Usage      |\n",
            "|=============================================================================|\n",
            "|  No running processes found                                                 |\n",
            "+-----------------------------------------------------------------------------+\n"
          ]
        },
        {
          "output_type": "execute_result",
          "data": {
            "text/plain": [
              ""
            ]
          },
          "metadata": {},
          "execution_count": 1
        }
      ]
    },
    {
      "cell_type": "code",
      "source": [
        "%%shell\n",
        "\n",
        "nvcc clock.cu -o clock\n",
        "./clock\n",
        "nvprof ./clock"
      ],
      "metadata": {
        "colab": {
          "base_uri": "https://localhost:8080/"
        },
        "id": "tyzra3yRL7fn",
        "outputId": "2be3e14b-4521-41d5-f2ae-2fc63890cccc"
      },
      "execution_count": 35,
      "outputs": [
        {
          "output_type": "stream",
          "name": "stdout",
          "text": [
            "Average Elapsed Time per block: 2120.093750\n",
            "==1538== NVPROF is profiling process 1538, command: ./clock\n",
            "Average Elapsed Time per block: 2099.250000\n",
            "==1538== Profiling application: ./clock\n",
            "==1538== Profiling result:\n",
            "            Type  Time(%)      Time     Calls       Avg       Min       Max  Name\n",
            " GPU activities:   57.63%  5.4400us         1  5.4400us  5.4400us  5.4400us  timedReduction(float const *, float*, long*)\n",
            "                   22.03%  2.0800us         1  2.0800us  2.0800us  2.0800us  [CUDA memcpy DtoH]\n",
            "                   20.34%  1.9200us         1  1.9200us  1.9200us  1.9200us  [CUDA memcpy HtoD]\n",
            "      API calls:   99.61%  279.48ms         3  93.160ms  2.8520us  279.47ms  cudaMalloc\n",
            "                    0.18%  512.33us       101  5.0720us     173ns  308.26us  cuDeviceGetAttribute\n",
            "                    0.14%  406.77us         1  406.77us  406.77us  406.77us  cuDeviceTotalMem\n",
            "                    0.03%  87.839us         3  29.279us  3.1560us  78.928us  cudaFree\n",
            "                    0.01%  37.014us         2  18.507us  17.030us  19.984us  cudaMemcpy\n",
            "                    0.01%  27.909us         1  27.909us  27.909us  27.909us  cuDeviceGetName\n",
            "                    0.01%  22.625us         1  22.625us  22.625us  22.625us  cudaLaunchKernel\n",
            "                    0.00%  7.9390us         1  7.9390us  7.9390us  7.9390us  cuDeviceGetPCIBusId\n",
            "                    0.00%  2.2830us         3     761ns     369ns  1.3990us  cuDeviceGetCount\n",
            "                    0.00%  1.3710us         2     685ns     198ns  1.1730us  cuDeviceGet\n",
            "                    0.00%     473ns         1     473ns     473ns     473ns  cuDeviceGetUuid\n"
          ]
        },
        {
          "output_type": "execute_result",
          "data": {
            "text/plain": [
              ""
            ]
          },
          "metadata": {},
          "execution_count": 35
        }
      ]
    }
  ]
}