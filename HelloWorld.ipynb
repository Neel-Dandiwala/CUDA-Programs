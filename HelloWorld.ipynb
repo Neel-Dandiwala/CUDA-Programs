{
  "nbformat": 4,
  "nbformat_minor": 0,
  "metadata": {
    "colab": {
      "name": "HelloWorld.ipynb",
      "provenance": [],
      "authorship_tag": "ABX9TyPzGFOODQpb7bhufCaQWakL",
      "include_colab_link": true
    },
    "kernelspec": {
      "name": "python3",
      "display_name": "Python 3"
    },
    "language_info": {
      "name": "python"
    },
    "accelerator": "GPU"
  },
  "cells": [
    {
      "cell_type": "markdown",
      "metadata": {
        "id": "view-in-github",
        "colab_type": "text"
      },
      "source": [
        "<a href=\"https://colab.research.google.com/github/Neel-Dandiwala/CUDA-Programs/blob/master/HelloWorld.ipynb\" target=\"_parent\"><img src=\"https://colab.research.google.com/assets/colab-badge.svg\" alt=\"Open In Colab\"/></a>"
      ]
    },
    {
      "cell_type": "code",
      "execution_count": 1,
      "metadata": {
        "colab": {
          "base_uri": "https://localhost:8080/"
        },
        "id": "oWD1WGedcQcz",
        "outputId": "93f16be7-d8c8-478c-e29b-c9987460ccdf"
      },
      "outputs": [
        {
          "output_type": "stream",
          "name": "stdout",
          "text": [
            "Writing hello.cu\n"
          ]
        }
      ],
      "source": [
        "%%writefile hello.cu\n",
        "\n",
        "#include <stdio.h>\n",
        "\n",
        "__global__\n",
        "void hello(){\n",
        "    printf(\"Thread: %d - Block: %d \\n\", threadIdx.x, blockIdx.x);\n",
        "}\n",
        "\n",
        "int main(void){\n",
        "    hello<<<4,4>>>();\n",
        "    cudaDeviceSynchronize();\n",
        "    return 0;\n",
        "}"
      ]
    },
    {
      "cell_type": "code",
      "source": [
        "%%shell\n",
        "\n",
        "nvidia-smi"
      ],
      "metadata": {
        "colab": {
          "base_uri": "https://localhost:8080/"
        },
        "id": "XsmltSICe1Bk",
        "outputId": "0c60eb30-4426-4d4d-ad4a-59fda9a6aed6"
      },
      "execution_count": 2,
      "outputs": [
        {
          "output_type": "stream",
          "name": "stdout",
          "text": [
            "Sat May 28 16:22:56 2022       \n",
            "+-----------------------------------------------------------------------------+\n",
            "| NVIDIA-SMI 460.32.03    Driver Version: 460.32.03    CUDA Version: 11.2     |\n",
            "|-------------------------------+----------------------+----------------------+\n",
            "| GPU  Name        Persistence-M| Bus-Id        Disp.A | Volatile Uncorr. ECC |\n",
            "| Fan  Temp  Perf  Pwr:Usage/Cap|         Memory-Usage | GPU-Util  Compute M. |\n",
            "|                               |                      |               MIG M. |\n",
            "|===============================+======================+======================|\n",
            "|   0  Tesla T4            Off  | 00000000:00:04.0 Off |                    0 |\n",
            "| N/A   46C    P8    10W /  70W |      0MiB / 15109MiB |      0%      Default |\n",
            "|                               |                      |                  N/A |\n",
            "+-------------------------------+----------------------+----------------------+\n",
            "                                                                               \n",
            "+-----------------------------------------------------------------------------+\n",
            "| Processes:                                                                  |\n",
            "|  GPU   GI   CI        PID   Type   Process name                  GPU Memory |\n",
            "|        ID   ID                                                   Usage      |\n",
            "|=============================================================================|\n",
            "|  No running processes found                                                 |\n",
            "+-----------------------------------------------------------------------------+\n"
          ]
        },
        {
          "output_type": "execute_result",
          "data": {
            "text/plain": [
              ""
            ]
          },
          "metadata": {},
          "execution_count": 2
        }
      ]
    },
    {
      "cell_type": "code",
      "source": [
        "%%shell\n",
        "\n",
        "nvcc hello.cu -o hello\n",
        "nsys profile -o prefetch --stats=true ./hello"
      ],
      "metadata": {
        "colab": {
          "base_uri": "https://localhost:8080/"
        },
        "id": "bdGYmg2Xe4ky",
        "outputId": "01aa56c5-ddb2-4b8b-d79f-3002e3c080d1"
      },
      "execution_count": 4,
      "outputs": [
        {
          "output_type": "stream",
          "name": "stdout",
          "text": [
            "Warning: LBR backtrace method is not supported on this platform. DWARF backtrace method will be used.\n",
            "Collecting data...\n",
            "Thread: 0 - Block: 2 \n",
            "Thread: 1 - Block: 2 \n",
            "Thread: 2 - Block: 2 \n",
            "Thread: 3 - Block: 2 \n",
            "Thread: 0 - Block: 0 \n",
            "Thread: 1 - Block: 0 \n",
            "Thread: 2 - Block: 0 \n",
            "Thread: 3 - Block: 0 \n",
            "Thread: 0 - Block: 1 \n",
            "Thread: 1 - Block: 1 \n",
            "Thread: 2 - Block: 1 \n",
            "Thread: 3 - Block: 1 \n",
            "Thread: 0 - Block: 3 \n",
            "Thread: 1 - Block: 3 \n",
            "Thread: 2 - Block: 3 \n",
            "Thread: 3 - Block: 3 \n",
            "Processing events...\n",
            "Capturing symbol files...\n",
            "Saving temporary \"/tmp/nsys-report-2644-694a-08e4-b9d8.qdstrm\" file to disk...\n",
            "Creating final output files...\n",
            "Unable to create output file '/content/prefetch.qdrep': File exists.\n",
            "Use `--force-overwrite true` to override existing files.\n",
            "\n",
            "Processing [==============================================================100%]\n",
            "Saved report file to \"/tmp/nsys-report-2644-694a-08e4-b9d8.qdrep\"\n",
            "Exporting 3824 events: [==================================================100%]\n",
            "\n",
            "Exported successfully to\n",
            "/tmp/nsys-report-2644-694a-08e4-b9d8.sqlite\n",
            "\n",
            "Generating CUDA API Statistics...\n",
            "CUDA API Statistics (nanoseconds)\n",
            "\n",
            "Time(%)      Total Time       Calls         Average         Minimum         Maximum  Name                                                                            \n",
            "-------  --------------  ----------  --------------  --------------  --------------  --------------------------------------------------------------------------------\n",
            "  100.0       326202199           1     326202199.0       326202199       326202199  cudaLaunchKernel                                                                \n",
            "    0.0          130040           1        130040.0          130040          130040  cudaDeviceSynchronize                                                           \n",
            "\n",
            "\n",
            "\n",
            "\n",
            "Generating CUDA Kernel Statistics...\n",
            "CUDA Kernel Statistics (nanoseconds)\n",
            "\n",
            "Time(%)      Total Time   Instances         Average         Minimum         Maximum  Name                                                                                                                                                                                                                                                                                                                                         \n",
            "-------  --------------  ----------  --------------  --------------  --------------  --------------------------------------------------------------------------------------------------------------------                                                                                                                                                                                                                         \n",
            "  100.0           86847           1         86847.0           86847           86847  hello()                                                                                                                                                                                                                                                                                                                                      \n",
            "\n",
            "\n",
            "\n",
            "\n",
            "\n",
            "Generating Operating System Runtime API Statistics...\n",
            "Operating System Runtime API Statistics (nanoseconds)\n",
            "\n",
            "Time(%)      Total Time       Calls         Average         Minimum         Maximum  Name                                                                            \n",
            "-------  --------------  ----------  --------------  --------------  --------------  --------------------------------------------------------------------------------\n",
            "   61.3       324816935          15      21654462.3            1504       100170284  poll                                                                            \n",
            "   38.2       202712968         632        320748.4            1221       110456762  ioctl                                                                           \n",
            "    0.2         1056605          11         96055.0           21546          291615  sem_timedwait                                                                   \n",
            "    0.2          822075          77         10676.3            2740           26566  open64                                                                          \n",
            "    0.0          181429           4         45357.3           38204           57145  pthread_create                                                                  \n",
            "    0.0          109295          25          4371.8            1568           15471  fopen                                                                           \n",
            "    0.0           95687           3         31895.7           28197           36509  fgets                                                                           \n",
            "    0.0           85420          12          7118.3            4377           13191  write                                                                           \n",
            "    0.0           45361           6          7560.2            2762           10775  open                                                                            \n",
            "    0.0           35480           9          3942.2            1021           21586  fclose                                                                          \n",
            "    0.0           25923           4          6480.7            3385           11752  fcntl                                                                           \n",
            "    0.0           21506           1         21506.0           21506           21506  sem_wait                                                                        \n",
            "    0.0           15451          11          1404.6            1084            1962  read                                                                            \n",
            "    0.0           14829           2          7414.5            4715           10114  fread                                                                           \n",
            "    0.0           13551           1         13551.0           13551           13551  connect                                                                         \n",
            "    0.0           13455           2          6727.5            5309            8146  socket                                                                          \n",
            "    0.0            5726           1          5726.0            5726            5726  pipe2                                                                           \n",
            "    0.0            2347           2          1173.5            1008            1339  msync                                                                           \n",
            "    0.0            1632           1          1632.0            1632            1632  bind                                                                            \n",
            "\n",
            "\n",
            "\n",
            "\n",
            "Generating NVTX Push-Pop Range Statistics...\n",
            "NVTX Push-Pop Range Statistics (nanoseconds)\n",
            "\n",
            "\n",
            "\n",
            "\n",
            "Please manually fetch report file(s) from:\n",
            "* /tmp/nsys-report-2644-694a-08e4-b9d8.qdrep\n",
            "* /tmp/nsys-report-2644-694a-08e4-b9d8.sqlite\n"
          ]
        },
        {
          "output_type": "execute_result",
          "data": {
            "text/plain": [
              ""
            ]
          },
          "metadata": {},
          "execution_count": 4
        }
      ]
    }
  ]
}