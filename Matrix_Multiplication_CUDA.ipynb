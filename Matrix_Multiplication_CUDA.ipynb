{
  "nbformat": 4,
  "nbformat_minor": 0,
  "metadata": {
    "colab": {
      "name": "Matrix_Multiplication_CUDA.ipynb",
      "provenance": [],
      "collapsed_sections": [],
      "authorship_tag": "ABX9TyNkxxKdXsMoDB5twgteCPK0",
      "include_colab_link": true
    },
    "kernelspec": {
      "name": "python3",
      "display_name": "Python 3"
    },
    "language_info": {
      "name": "python"
    },
    "accelerator": "GPU"
  },
  "cells": [
    {
      "cell_type": "markdown",
      "metadata": {
        "id": "view-in-github",
        "colab_type": "text"
      },
      "source": [
        "<a href=\"https://colab.research.google.com/github/Neel-Dandiwala/CUDA-Programs/blob/master/Matrix_Multiplication_CUDA.ipynb\" target=\"_parent\"><img src=\"https://colab.research.google.com/assets/colab-badge.svg\" alt=\"Open In Colab\"/></a>"
      ]
    },
    {
      "cell_type": "code",
      "execution_count": 9,
      "metadata": {
        "colab": {
          "base_uri": "https://localhost:8080/"
        },
        "id": "QSzCDzbxeHgm",
        "outputId": "1518255f-ff23-44e5-d5ad-b297e335a46e"
      },
      "outputs": [
        {
          "output_type": "stream",
          "name": "stdout",
          "text": [
            "Overwriting dev_array.h\n"
          ]
        }
      ],
      "source": [
        "%%writefile dev_array.h\n",
        "\n",
        "#ifndef _DEV_ARRAY_H_\n",
        "#define _DEV_ARRAY_H_\n",
        "\n",
        "#include <stdexcept>\n",
        "#include <algorithm>\n",
        "#include <cuda_runtime.h>\n",
        "\n",
        "template <class T>\n",
        "class dev_array\n",
        "{\n",
        "    public: \n",
        "      explicit dev_array()\n",
        "        : start_(0),\n",
        "          end_(0)\n",
        "      {}\n",
        " \n",
        "      explicit dev_array(size_t size)\n",
        "      {\n",
        "          allocate(size);\n",
        "      }\n",
        "      \n",
        "      ~dev_array(){\n",
        "          free();\n",
        "      }\n",
        " \n",
        "      void resize(size_t size){\n",
        "          free();\n",
        "          allocate(size);\n",
        "      }\n",
        "\n",
        "      size_t getSize() const {\n",
        "          return end_ - start_;\n",
        "      }\n",
        "  \n",
        "      const T* getData() const {\n",
        "          return start_;\n",
        "      }\n",
        " \n",
        "      T* getData() {\n",
        "          return start_;\n",
        "      }\n",
        " \n",
        "      void set(const T* src, size_t size) {\n",
        "          size_t min = std::min(size, getSize());\n",
        "          cudaError_t result = cudaMemcpy(start_, src, min * sizeof(T), cudaMemcpyHostToDevice);\n",
        "          if (result != cudaSuccess)\n",
        "          {\n",
        "              throw std::runtime_error(\"Failed to copy to Device Memory\");\n",
        "          }\n",
        "      }\n",
        "\n",
        "      void get(T* dest, size_t size){\n",
        "          size_t min = std::min(size, getSize());\n",
        "          cudaError_t result = cudaMemcpy(dest, start_, min * sizeof(T), cudaMemcpyDeviceToHost);\n",
        "          if (result != cudaSuccess) {\n",
        "              throw std::runtime_error(\"Failed to copy to Host Memory\");\n",
        "          }\n",
        "      }\n",
        "\n",
        "    private:\n",
        "      void allocate(size_t size){\n",
        "          cudaError_t result = cudaMalloc((void**)&start_, size * sizeof(T));\n",
        "          if (result != cudaSuccess){\n",
        "              start_ = end_ = 0;\n",
        "              throw std::runtime_error(\"Failed to allocate Device Memory\");\n",
        "          }\n",
        "      }\n",
        " \n",
        "      void free(){\n",
        "          if (start_ != 0){\n",
        "              cudaFree(start_);\n",
        "              start_ = end_ = 0;\n",
        "          }\n",
        "      }\n",
        "\n",
        "      T* start_;\n",
        "      T* end_;\n",
        "};\n",
        "\n",
        "#endif\n"
      ]
    },
    {
      "cell_type": "code",
      "source": [
        "%%writefile kernel.h\n",
        "\n",
        "#ifndef KERNEL_CUH_\n",
        "#define KERNEL_CUH_\n",
        "\n",
        "void matrixMultiplication(float *A, float *B, float *C, int N);\n",
        "\n",
        "#endif"
      ],
      "metadata": {
        "colab": {
          "base_uri": "https://localhost:8080/"
        },
        "id": "PRewHTZmCIYM",
        "outputId": "f89798af-41d6-42c9-f349-a7e40f0228b7"
      },
      "execution_count": 2,
      "outputs": [
        {
          "output_type": "stream",
          "name": "stdout",
          "text": [
            "Writing kernel.h\n"
          ]
        }
      ]
    },
    {
      "cell_type": "code",
      "source": [
        "%%writefile kernel.cu\n",
        "\n",
        "#include <math.h>\n",
        "#include <iostream>\n",
        "#include \"cuda_runtime.h\"\n",
        "#include \"kernel.h\"\n",
        "#include <stdlib.h>\n",
        "\n",
        "using namespace std;\n",
        "\n",
        "__global__\n",
        "void matrixMultiplicationKernel(float *A, float *B, float *C, int N){\n",
        "    int ROW = blockIdx.y * blockDim.y + threadIdx.y;\n",
        "    int COL = blockIdx.x * blockDim.x + threadIdx.x;\n",
        "\n",
        "    float tempSum = 0;\n",
        "\n",
        "    if (ROW < N && COL < N){\n",
        "        for(int i = 0; i < N; i++){\n",
        "            tempSum += A[ROW * N + i] * B[i * N + COL];\n",
        "        }\n",
        "    }\n",
        "\n",
        "    C[ROW * N + COL] = tempSum;\n",
        "}\n",
        "\n",
        "void matrixMultiplication(float *A, float *B, float *C, int N){\n",
        "    \n",
        "    dim3 threadsPerBlock(N, N);\n",
        "    dim3 blocksPerGrid(1, 1);\n",
        "\n",
        "      if (N*N > 512){\n",
        "          threadsPerBlock.x = 512;\n",
        "          threadsPerBlock.y = 512;\n",
        "          blocksPerGrid.x = ceil(double(N)/double(threadsPerBlock.x));\n",
        "          blocksPerGrid.y = ceil(double(N)/double(threadsPerBlock.y));\n",
        "      }\n",
        "\n",
        "      matrixMultiplicationKernel<<<blocksPerGrid, threadsPerBlock>>>(A, B, C, N);\n",
        "}"
      ],
      "metadata": {
        "colab": {
          "base_uri": "https://localhost:8080/"
        },
        "id": "jJR-kyxvChUo",
        "outputId": "6af72bac-c38a-4f3a-981d-0ac70f525932"
      },
      "execution_count": 7,
      "outputs": [
        {
          "output_type": "stream",
          "name": "stdout",
          "text": [
            "Overwriting kernel.cu\n"
          ]
        }
      ]
    },
    {
      "cell_type": "code",
      "source": [
        "%%writefile matrixmul.cu\n",
        "#include <stdio.h>\n",
        "#include <iostream>\n",
        "#include <vector>\n",
        "#include <stdlib.h>\n",
        "#include <time.h>\n",
        "#include <cuda_runtime.h>\n",
        "#include \"kernel.h\"\n",
        "#include \"kernel.cu\"\n",
        "#include \"dev_array.h\"\n",
        "#include <math.h>\n",
        "\n",
        "int main(){ \n",
        "    \n",
        "    int N = 3;\n",
        "    int SIZE = N*N;\n",
        "\n",
        "    vector<float> h_A(SIZE);\n",
        "    vector<float> h_B(SIZE);\n",
        "    vector<float> h_C(SIZE);\n",
        "\n",
        "    for (int i=0; i<N; i++){\n",
        "        for (int j=0; j<N; j++){\n",
        "            h_A[i*N+j] = sin(i);\n",
        "            h_B[i*N+j] = cos(j);\n",
        "        }\n",
        "    }\n",
        "\n",
        "    dev_array<float> d_A(SIZE);\n",
        "    dev_array<float> d_B(SIZE);\n",
        "    dev_array<float> d_C(SIZE);\n",
        "\n",
        "    d_A.set(&h_A[0], SIZE);\n",
        "    d_B.set(&h_B[0], SIZE);\n",
        "\n",
        "    matrixMultiplication(d_A.getData(), d_B.getData(), d_C.getData(), N);\n",
        "    cudaDeviceSynchronize();\n",
        "\n",
        "    d_C.get(&h_C[0], SIZE);\n",
        "    cudaDeviceSynchronize();\n",
        "\n",
        "    //Testing purpose to compare with CPU Calculation\n",
        "    float *cpu_C;\n",
        "    cpu_C = new float[SIZE];\n",
        "\n",
        "    float sum;\n",
        "    for (int row = 0; row < N; row++){\n",
        "        for (int col = 0; col < N; col++){\n",
        "            sum = 0.0f;\n",
        "            for(int n = 0; n < N; n++){\n",
        "                sum += h_A[row * N + n] * h_B[N * n + col];\n",
        "            }\n",
        "\n",
        "            cpu_C[row * N + col] = sum;\n",
        "        }\n",
        "    }\n",
        "\n",
        "    double err = 0;\n",
        "\n",
        "    for (int ROW = 0; ROW < N; ROW++){\n",
        "        for (int COL = 0; COL < N; COL++){\n",
        "            err += cpu_C[ROW * N + COL] - h_C[ROW * N + COL];\n",
        "        }\n",
        "    }\n",
        "    \n",
        "    std::cout << \"Error: \"<< err << std::endl;\n",
        "\n",
        "    return 0;\n",
        "}"
      ],
      "metadata": {
        "colab": {
          "base_uri": "https://localhost:8080/"
        },
        "id": "yjYSpaRIzY0O",
        "outputId": "c4911f6c-e677-4aa7-91fb-433b2b300261"
      },
      "execution_count": 15,
      "outputs": [
        {
          "output_type": "stream",
          "name": "stdout",
          "text": [
            "Overwriting matrixmul.cu\n"
          ]
        }
      ]
    },
    {
      "cell_type": "code",
      "source": [
        "%%shell\n",
        "\n",
        "nvcc matrixmul.cu -o matrixmul\n",
        "./matrixmul"
      ],
      "metadata": {
        "colab": {
          "base_uri": "https://localhost:8080/"
        },
        "id": "GP3D0sv3ew8W",
        "outputId": "5721c761-b0e2-4644-ad32-073bd4e0f7a3"
      },
      "execution_count": 16,
      "outputs": [
        {
          "output_type": "stream",
          "name": "stdout",
          "text": [
            "Error: -1.19209e-07\n"
          ]
        },
        {
          "output_type": "execute_result",
          "data": {
            "text/plain": [
              ""
            ]
          },
          "metadata": {},
          "execution_count": 16
        }
      ]
    }
  ]
}